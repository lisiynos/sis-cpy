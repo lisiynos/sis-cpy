{
 "cells": [
  {
   "cell_type": "markdown",
   "metadata": {},
   "source": [
    "# Переменные, печать переменных"
   ]
  },
  {
   "cell_type": "code",
   "execution_count": null,
   "metadata": {},
   "outputs": [],
   "source": [
    ""
   ]
  },
  {
   "cell_type": "code",
   "execution_count": null,
   "metadata": {},
   "outputs": [
    {
     "name": "stdout",
     "output_type": "stream",
     "text": [
      "1 2\n"
     ]
    }
   ],
   "source": [
    "a = 10\n",
    "b = 15\n",
    "a, b = 1, 2\n",
    "print(a, b)"
   ]
  },
  {
   "cell_type": "code",
   "execution_count": 2,
   "metadata": {
    "scrolled": true
   },
   "outputs": [
    {
     "data": {
      "text/plain": [
       "1.4142135623730951"
      ]
     },
     "execution_count": 2,
     "metadata": {},
     "output_type": "execute_result"
    }
   ],
   "source": [
    "2 ** 0.5"
   ]
  },
  {
   "cell_type": "code",
   "execution_count": 3,
   "metadata": {},
   "outputs": [
    {
     "data": {
      "text/plain": [
       "[0, 0, 0, 0, 0, 0]"
      ]
     },
     "execution_count": 3,
     "metadata": {},
     "output_type": "execute_result"
    }
   ],
   "source": [
    "[0] * 6"
   ]
  },
  {
   "cell_type": "markdown",
   "metadata": {},
   "source": [
    "# Условный оператор"
   ]
  },
  {
   "cell_type": "code",
   "execution_count": null,
   "metadata": {},
   "outputs": [
    {
     "name": "stdout",
     "output_type": "stream",
     "text": [
      "5\n",
      "5\n",
      "xxx\n"
     ]
    }
   ],
   "source": [
    "x = int(\"10\")  # input()\n",
    "if x > 0:\n",
    "    print(x)\n",
    "    print(\"xxx\")\n",
    "else:\n",
    "    print(-x)"
   ]
  },
  {
   "cell_type": "code",
   "execution_count": 5,
   "metadata": {},
   "outputs": [
    {
     "data": {
      "text/plain": [
       "[2, 10, 20]"
      ]
     },
     "execution_count": 5,
     "metadata": {},
     "output_type": "execute_result"
    }
   ],
   "source": [
    "b = [2, 20, 10]\n",
    "sorted(b)"
   ]
  },
  {
   "cell_type": "code",
   "execution_count": 6,
   "metadata": {},
   "outputs": [
    {
     "data": {
      "text/plain": [
       "5"
      ]
     },
     "execution_count": 6,
     "metadata": {},
     "output_type": "execute_result"
    }
   ],
   "source": [
    "x"
   ]
  },
  {
   "cell_type": "code",
   "execution_count": 7,
   "metadata": {},
   "outputs": [
    {
     "name": "stdout",
     "output_type": "stream",
     "text": [
      "5\n",
      "do something...\n"
     ]
    }
   ],
   "source": [
    "a = 5\n",
    "if a > 3:\n",
    "    print(a)\n",
    "print(\"do something...\")"
   ]
  },
  {
   "cell_type": "code",
   "execution_count": 8,
   "metadata": {
    "scrolled": false
   },
   "outputs": [
    {
     "name": "stdout",
     "output_type": "stream",
     "text": [
      "-400 - is leap\n"
     ]
    }
   ],
   "source": [
    "# Високосный ли год?\n",
    "year = 2017\n",
    "year = 2016\n",
    "year = -400\n",
    "if year % 4 == 0 and year % 100 != 0 or year % 400 == 0:\n",
    "    print(str(year) + \" - is leap\")\n",
    "else:\n",
    "    print(str(year))"
   ]
  },
  {
   "cell_type": "markdown",
   "metadata": {},
   "source": []
  },
  {
   "cell_type": "code",
   "execution_count": 9,
   "metadata": {
    "tags": [
     "math",
     "геометрия"
    ]
   },
   "outputs": [
    {
     "name": "stdout",
     "output_type": "stream",
     "text": [
      "First quarter\n"
     ]
    }
   ],
   "source": [
    "x = 2\n",
    "y = 20\n",
    "if x > 0:\n",
    "    if y > 0: # x > 0, y > 0\n",
    "        print(\"First quarter\")\n",
    "    else: # x > 0, y < 0\n",
    "        print(\"Fourth quarter\")\n",
    "else:\n",
    "    if y > 0: # x < 0, y > 0\n",
    "        print(\"Second quarter\")\n",
    "    else: # x < 0, y < 0\n",
    "        print(\"Third quarter\")"
   ]
  },
  {
   "cell_type": "code",
   "execution_count": 10,
   "metadata": {},
   "outputs": [
    {
     "name": "stdout",
     "output_type": "stream",
     "text": [
      "x in [1..10]\n"
     ]
    }
   ],
   "source": [
    "x = 5\n",
    "if 1 <= x <= 10:\n",
    "    print('x in [1..10]')"
   ]
  },
  {
   "cell_type": "code",
   "execution_count": 11,
   "metadata": {},
   "outputs": [
    {
     "name": "stdout",
     "output_type": "stream",
     "text": [
      "x not in [1..10]\n"
     ]
    }
   ],
   "source": [
    "x = 11\n",
    "if 1 <= x <= 10:\n",
    "    print('x in [1..10]')\n",
    "else:\n",
    "    print('x not in [1..10]')"
   ]
  },
  {
   "cell_type": "code",
   "execution_count": 12,
   "metadata": {
    "collapsed": true
   },
   "outputs": [],
   "source": [
    "i = -2\n",
    "if i >= 0 and A[i] > 0:\n",
    "    print(\"Do something...\")"
   ]
  },
  {
   "cell_type": "code",
   "execution_count": 13,
   "metadata": {},
   "outputs": [
    {
     "data": {
      "text/plain": [
       "(30, 20, 10)"
      ]
     },
     "execution_count": 13,
     "metadata": {},
     "output_type": "execute_result"
    }
   ],
   "source": [
    "b = [10, 20, 30]\n",
    "b[-1], b[-2], b[-3]  # b[-4] - list index out of range"
   ]
  },
  {
   "cell_type": "code",
   "execution_count": 14,
   "metadata": {},
   "outputs": [
    {
     "name": "stdout",
     "output_type": "stream",
     "text": [
      "Average = 267.5\n",
      "Average = 267.5\n",
      "Min = 10\n",
      "Max = 1000\n"
     ]
    }
   ],
   "source": [
    "B = [10, 1000, 20, 40]\n",
    "sum_B = 0\n",
    "for x in B:\n",
    "    sum_B += x\n",
    "print(\"Average = \" + str(sum_B / len(B)))\n",
    "print(\"Average = \" + str(sum(B) / len(B)))\n",
    "print(\"Min = \" + str(min(B)))\n",
    "print(\"Max = \" + str(max(B)))"
   ]
  },
  {
   "cell_type": "markdown",
   "metadata": {},
   "source": [
    "# Функция range"
   ]
  },
  {
   "cell_type": "code",
   "execution_count": 15,
   "metadata": {
    "tags": [
     "range"
    ]
   },
   "outputs": [
    {
     "name": "stdout",
     "output_type": "stream",
     "text": [
      "0 1 2 3 4 5 6 7 8 9 "
     ]
    }
   ],
   "source": [
    "n = 10\n",
    "for i in range(n): # Числа от 0 до n-1\n",
    "    print(i, end = ' ')"
   ]
  },
  {
   "cell_type": "code",
   "execution_count": 16,
   "metadata": {
    "tags": [
     "range"
    ]
   },
   "outputs": [
    {
     "name": "stdout",
     "output_type": "stream",
     "text": [
      "6 7 8 9 10 11 12 13 14 15 16 17 "
     ]
    }
   ],
   "source": [
    "a, b = 6, 18\n",
    "for i in range(a, b): # i = a, a + 1, ... , b-1\n",
    "    print(i, end = ' ')"
   ]
  },
  {
   "cell_type": "code",
   "execution_count": 17,
   "metadata": {
    "tags": [
     "range"
    ]
   },
   "outputs": [
    {
     "name": "stdout",
     "output_type": "stream",
     "text": [
      "6 9 12 15 "
     ]
    }
   ],
   "source": [
    "k = 3 # Шаг\n",
    "for i in range(a, b, k): # i = a, a + k, a + 2 * k, ...\n",
    "    print(i, end = ' ')"
   ]
  },
  {
   "cell_type": "code",
   "execution_count": 18,
   "metadata": {},
   "outputs": [
    {
     "data": {
      "text/plain": [
       "[0, 1, 2, 3, 4, 5, 6]"
      ]
     },
     "execution_count": 18,
     "metadata": {},
     "output_type": "execute_result"
    }
   ],
   "source": [
    "list(range(7))"
   ]
  },
  {
   "cell_type": "markdown",
   "metadata": {},
   "source": [
    "# Функции"
   ]
  },
  {
   "cell_type": "code",
   "execution_count": null,
   "metadata": {
    "collapsed": true
   },
   "outputs": [],
   "source": [
    ""
   ]
  },
  {
   "cell_type": "code",
   "execution_count": null,
   "metadata": {
    "collapsed": true
   },
   "outputs": [],
   "source": [
    ""
   ]
  }
 ],
 "metadata": {
  "celltoolbar": "Tags",
  "kernelspec": {
   "display_name": "Python 3",
   "language": "python",
   "name": "python3"
  },
  "language_info": {
   "codemirror_mode": {
    "name": "ipython",
    "version": 3
   },
   "file_extension": ".py",
   "mimetype": "text/x-python",
   "name": "python",
   "nbconvert_exporter": "python",
   "pygments_lexer": "ipython3",
   "version": "3.6.1"
  }
 },
 "nbformat": 4,
 "nbformat_minor": 0
}
