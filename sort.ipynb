{
 "cells": [
  {
   "cell_type": "markdown",
   "metadata": {},
   "source": [
    "Оценка сложности алгоритмов\n",
    "===========================\n",
    "\n",
    "* $O(1)$ - константная сложность\n",
    "* $O(n)$ - линейная сложность. Не $O(2n)$\n",
    "* $O(log n)$ - логарифмическая\n",
    "* $O(n^2)$ - квадратичные\n",
    "* $O(n^3)$ - P полиномиальная сложность\n",
    "* $O(n^{const} + m^{const} + n*m)$ - тоже полиномиальная сложность\n",
    "* $O(n log n)$ - большинство \"быстрых\" сортировок\n",
    "* $O(2^n)$ - эспоненциальная сложность.   например: перебор всех подмножеств\n",
    "* $O(n^n)$"
   ]
  },
  {
   "cell_type": "markdown",
   "metadata": {},
   "source": [
    "Квадратичные сортировки\n",
    "======================="
   ]
  },
  {
   "cell_type": "code",
   "execution_count": 2,
   "metadata": {},
   "outputs": [],
   "source": [
    "src = \"1 2 43 10 102 -1\"\n",
    "A_copy = list(map(int, src.split()))"
   ]
  },
  {
   "cell_type": "markdown",
   "metadata": {},
   "source": [
    "## Сортировка выбором"
   ]
  },
  {
   "cell_type": "code",
   "execution_count": 7,
   "metadata": {},
   "outputs": [
    {
     "name": "stdout",
     "output_type": "stream",
     "text": [
      "-1 1 2 10 43 102\n"
     ]
    }
   ],
   "source": [
    "# Ставим минимум из i..n-1 на i-ое место\n",
    "A = A_copy.copy()\n",
    "n = len(A)\n",
    "for i in range(n - 1):\n",
    "    min_value = A[i]\n",
    "    min_idx = i\n",
    "    for j in range(i + 1, n):\n",
    "        if A[j] < min_value:\n",
    "            min_value = A[j]\n",
    "            min_idx = j\n",
    "    A[i], A[min_idx] = A[min_idx], A[i]\n",
    "\n",
    "assert A == sorted(A_copy)\n",
    "print(*A)"
   ]
  },
  {
   "cell_type": "markdown",
   "metadata": {
    "collapsed": true
   },
   "source": [
    "Сортировка подсчетом\n",
    "====================\n",
    "\n"
   ]
  },
  {
   "cell_type": "code",
   "execution_count": 8,
   "metadata": {},
   "outputs": [],
   "source": [
    ""
   ]
  },
  {
   "cell_type": "code",
   "execution_count": 8,
   "metadata": {},
   "outputs": [],
   "source": [
    ""
   ]
  },
  {
   "cell_type": "code",
   "execution_count": null,
   "metadata": {},
   "outputs": [],
   "source": [
    ""
   ]
  }
 ],
 "metadata": {
  "kernelspec": {
   "display_name": "Python 2",
   "language": "python",
   "name": "python2"
  },
  "language_info": {
   "codemirror_mode": {
    "name": "ipython",
    "version": 2
   },
   "file_extension": ".py",
   "mimetype": "text/x-python",
   "name": "python",
   "nbconvert_exporter": "python",
   "pygments_lexer": "ipython2",
   "version": "2.7.6"
  }
 },
 "nbformat": 4,
 "nbformat_minor": 0
}
